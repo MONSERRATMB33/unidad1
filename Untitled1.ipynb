{
  "nbformat": 4,
  "nbformat_minor": 0,
  "metadata": {
    "colab": {
      "provenance": [],
      "authorship_tag": "ABX9TyPtT5fSiAbIdIDR7kWHUhMy",
      "include_colab_link": true
    },
    "kernelspec": {
      "name": "python3",
      "display_name": "Python 3"
    },
    "language_info": {
      "name": "python"
    }
  },
  "cells": [
    {
      "cell_type": "markdown",
      "metadata": {
        "id": "view-in-github",
        "colab_type": "text"
      },
      "source": [
        "<a href=\"https://colab.research.google.com/github/MONSERRATMB33/unidad1/blob/main/Untitled1.ipynb\" target=\"_parent\"><img src=\"https://colab.research.google.com/assets/colab-badge.svg\" alt=\"Open In Colab\"/></a>"
      ]
    },
    {
      "cell_type": "code",
      "execution_count": 7,
      "metadata": {
        "colab": {
          "base_uri": "https://localhost:8080/"
        },
        "id": "gUErX07v3N6E",
        "outputId": "7b9f6cbe-eae5-4876-ea3d-85b13c72be97"
      },
      "outputs": [
        {
          "output_type": "stream",
          "name": "stdout",
          "text": [
            "La media es: 39.375\n",
            "La mediana es: 39.5\n",
            "la moda es: 12\n"
          ]
        }
      ],
      "source": [
        "import numpy as np\n",
        "from scipy import stats\n",
        "\n",
        "valores= np.array([25, 45, 56, 12, 67, 34, 55, 21])\n",
        "media= np.mean(valores)\n",
        "mediana= np.median (valores)\n",
        "moda= stats.mode(valores)\n",
        "print(\"La media es:\",media)\n",
        "print(\"La mediana es:\",mediana)\n",
        "print(\"la moda es:\",moda.mode)\n"
      ]
    },
    {
      "cell_type": "code",
      "source": [
        "import numpy as np\n",
        "from scipy import stats\n",
        "\n",
        "valores= np.array([10,20,30,40,20,50,20])\n",
        "media= np.mean (valores)\n",
        "mediana= np.median (valores)\n",
        "moda= stats.mode(valores)\n",
        "print(\"la media es:\", media)\n",
        "print(\"la mediana es:\",mediana)\n",
        "print(\"la moda es:\",moda.mode)"
      ],
      "metadata": {
        "colab": {
          "base_uri": "https://localhost:8080/"
        },
        "id": "x3Vv4ZTcE7Nq",
        "outputId": "5d9b1188-41b0-496e-fb88-d2d9bc752639"
      },
      "execution_count": 8,
      "outputs": [
        {
          "output_type": "stream",
          "name": "stdout",
          "text": [
            "la media es: 27.142857142857142\n",
            "la mediana es: 20.0\n",
            "la moda es: 20\n"
          ]
        }
      ]
    },
    {
      "cell_type": "code",
      "source": [
        "import numpy as np\n",
        "from scipy import stats\n",
        "\n",
        "valores= np.array([10,20,30,40,50])\n",
        "media= np.mean (valores)\n",
        "mediana= np.median(valores)\n",
        "moda= stats.mode(valores)\n",
        "print(\"la media es:\" ,media)\n",
        "print(\"la mediana es:\",mediana)\n",
        "print(\"la moda es:\",moda.mode)"
      ],
      "metadata": {
        "colab": {
          "base_uri": "https://localhost:8080/"
        },
        "id": "zlq5Fnp_FYUq",
        "outputId": "94e2f34b-8c1a-4b4d-aee1-d2bf544d9977"
      },
      "execution_count": 9,
      "outputs": [
        {
          "output_type": "stream",
          "name": "stdout",
          "text": [
            "la media es: 30.0\n",
            "la mediana es: 30.0\n",
            "la moda es: 10\n"
          ]
        }
      ]
    }
  ]
}