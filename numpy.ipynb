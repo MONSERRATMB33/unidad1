{
  "nbformat": 4,
  "nbformat_minor": 0,
  "metadata": {
    "colab": {
      "provenance": [],
      "authorship_tag": "ABX9TyNAw3MuetQRykIlCyoTqqn5",
      "include_colab_link": true
    },
    "kernelspec": {
      "name": "python3",
      "display_name": "Python 3"
    },
    "language_info": {
      "name": "python"
    }
  },
  "cells": [
    {
      "cell_type": "markdown",
      "metadata": {
        "id": "view-in-github",
        "colab_type": "text"
      },
      "source": [
        "<a href=\"https://colab.research.google.com/github/MONSERRATMB33/unidad1/blob/main/numpy.ipynb\" target=\"_parent\"><img src=\"https://colab.research.google.com/assets/colab-badge.svg\" alt=\"Open In Colab\"/></a>"
      ]
    },
    {
      "cell_type": "code",
      "execution_count": null,
      "metadata": {
        "id": "TXL9yD2rib5J"
      },
      "outputs": [],
      "source": []
    },
    {
      "cell_type": "markdown",
      "source": [
        "NumPy es una libreria de python.\n",
        "NumPy se utiliza para trabajar matrices o arreglos\n",
        "NumPy es la abreviatura de \"python numerico\"\n",
        "Tambien tiene funciones para trabajar en el dominio de algebra lineal,la transformada y las matrices\n",
        "en python tenemos listas que sirven como matrices,pero son lentas de procesar.NumPy tiene como objetivo proporcionar en objeto de matriz que sea 50 veces mas rapido que las listas tradicionales"
      ],
      "metadata": {
        "id": "u8Ue613-i1aZ"
      }
    },
    {
      "cell_type": "code",
      "source": [
        "#Primero tenemos que importar la libreria\n",
        "import numpy\n",
        "\n",
        "arreglo = numpy.array([1,2,3,4,5])\n",
        "print(arreglo)"
      ],
      "metadata": {
        "colab": {
          "base_uri": "https://localhost:8080/"
        },
        "id": "rHuur8vrlHAX",
        "outputId": "3a2e0ff2-04fd-4bfa-b601-7b80aa1964a9"
      },
      "execution_count": 1,
      "outputs": [
        {
          "output_type": "stream",
          "name": "stdout",
          "text": [
            "[1 2 3 4 5]\n"
          ]
        }
      ]
    },
    {
      "cell_type": "markdown",
      "source": [
        "Numpy como np\n",
        "NumPY generalmete de importa bajo el alias np.en python los alias son un nombre alternativo para referirse a la misma cosa"
      ],
      "metadata": {
        "id": "YlubkhDumMUp"
      }
    },
    {
      "cell_type": "code",
      "source": [
        "import numpy as np\n",
        "\n",
        "arreglo = np.array([6,7,8,9,10])\n",
        "print(arreglo)"
      ],
      "metadata": {
        "colab": {
          "base_uri": "https://localhost:8080/"
        },
        "id": "RZOjzJNYmp-w",
        "outputId": "34cae55e-47ca-49d6-fe0f-503541474d35"
      },
      "execution_count": 2,
      "outputs": [
        {
          "output_type": "stream",
          "name": "stdout",
          "text": [
            "[ 6  7  8  9 10]\n"
          ]
        }
      ]
    },
    {
      "cell_type": "markdown",
      "source": [
        "comprobando la version de NumPy la cadena de version se almacena en el atributo_version_"
      ],
      "metadata": {
        "id": "KrgTvjSYnbKT"
      }
    },
    {
      "cell_type": "code",
      "source": [
        "import numpy as np\n",
        "print (np._version_)"
      ],
      "metadata": {
        "colab": {
          "base_uri": "https://localhost:8080/",
          "height": 280
        },
        "id": "yg2Rz_OUn1dq",
        "outputId": "de1919c0-9a18-4262-c6ef-c3751734ebba"
      },
      "execution_count": 4,
      "outputs": [
        {
          "output_type": "error",
          "ename": "AttributeError",
          "evalue": "module 'numpy' has no attribute '_version_'",
          "traceback": [
            "\u001b[0;31m---------------------------------------------------------------------------\u001b[0m",
            "\u001b[0;31mAttributeError\u001b[0m                            Traceback (most recent call last)",
            "\u001b[0;32m/tmp/ipython-input-3161507123.py\u001b[0m in \u001b[0;36m<cell line: 0>\u001b[0;34m()\u001b[0m\n\u001b[1;32m      1\u001b[0m \u001b[0;32mimport\u001b[0m \u001b[0mnumpy\u001b[0m \u001b[0;32mas\u001b[0m \u001b[0mnp\u001b[0m\u001b[0;34m\u001b[0m\u001b[0;34m\u001b[0m\u001b[0m\n\u001b[0;32m----> 2\u001b[0;31m \u001b[0mprint\u001b[0m \u001b[0;34m(\u001b[0m\u001b[0mnp\u001b[0m\u001b[0;34m.\u001b[0m\u001b[0m_version_\u001b[0m\u001b[0;34m)\u001b[0m\u001b[0;34m\u001b[0m\u001b[0;34m\u001b[0m\u001b[0m\n\u001b[0m",
            "\u001b[0;32m/usr/local/lib/python3.12/dist-packages/numpy/__init__.py\u001b[0m in \u001b[0;36m__getattr__\u001b[0;34m(attr)\u001b[0m\n\u001b[1;32m    408\u001b[0m             \u001b[0;32mreturn\u001b[0m \u001b[0mchar\u001b[0m\u001b[0;34m.\u001b[0m\u001b[0mchararray\u001b[0m\u001b[0;34m\u001b[0m\u001b[0;34m\u001b[0m\u001b[0m\n\u001b[1;32m    409\u001b[0m \u001b[0;34m\u001b[0m\u001b[0m\n\u001b[0;32m--> 410\u001b[0;31m         raise AttributeError(\"module {!r} has no attribute \"\n\u001b[0m\u001b[1;32m    411\u001b[0m                              \"{!r}\".format(__name__, attr))\n\u001b[1;32m    412\u001b[0m \u001b[0;34m\u001b[0m\u001b[0m\n",
            "\u001b[0;31mAttributeError\u001b[0m: module 'numpy' has no attribute '_version_'"
          ]
        }
      ]
    },
    {
      "cell_type": "markdown",
      "source": [
        "NumPy crea matrices\n",
        "Crea un objeto ndarray de NumPy\n",
        "NumPy se utiliza para trabajar con matrices.\n",
        "el objeto de matriz se llama ndarray.\n",
        "podemos crear un NumPy ndarray utilizando la funcion array()"
      ],
      "metadata": {
        "id": "1mpiU682oai_"
      }
    },
    {
      "cell_type": "code",
      "source": [
        "import numpy as np\n",
        "\n",
        "arreglo = np.array([\"Raul\",\"David\",\"Leonel\",\"Monserrat\"])\n",
        "print (arreglo)\n",
        "print (type(arreglo))"
      ],
      "metadata": {
        "colab": {
          "base_uri": "https://localhost:8080/"
        },
        "id": "09Cbp0eUpbm8",
        "outputId": "79eb15eb-b741-4a18-b85b-489dd1286189"
      },
      "execution_count": 5,
      "outputs": [
        {
          "output_type": "stream",
          "name": "stdout",
          "text": [
            "['Raul' 'David' 'Leonel' 'Monserrat']\n",
            "<class 'numpy.ndarray'>\n"
          ]
        }
      ]
    },
    {
      "cell_type": "markdown",
      "source": [
        "Dimensiones en matrices\n",
        "Una dimension en matrices es un nivel\n",
        "de profundidad de matriz (matrices unidas)\n",
        "Una matriz unida contiene matrices como elementos\n",
        "Matrices 0-D.son elementos de una matriz.\n",
        "cada valor de una matrizes una matriz 0-D.Ejemplo:crea una matriz 0-D con valor de 42"
      ],
      "metadata": {
        "id": "L_rcVFhZqSUY"
      }
    },
    {
      "cell_type": "code",
      "source": [
        "import numpy as np\n",
        "\n",
        "arreglo = np.array(42)\n",
        "\n",
        "print (arreglo)"
      ],
      "metadata": {
        "colab": {
          "base_uri": "https://localhost:8080/"
        },
        "id": "p4j2f3q1riIT",
        "outputId": "2e7b298f-e7fc-48fa-cd09-1e79da79b176"
      },
      "execution_count": 6,
      "outputs": [
        {
          "output_type": "stream",
          "name": "stdout",
          "text": [
            "42\n"
          ]
        }
      ]
    },
    {
      "cell_type": "markdown",
      "source": [
        "Matrices 1-D\n",
        "Una matriz que tiene matrices 0-D como elementos se denomina\n",
        "matriz unidimensional o 1-D. Estas son las matrices mas comunes y basicas.\n",
        "Ejemplo:Crea una matriz de 1-D que tenga los valores 1,2,3,4,5"
      ],
      "metadata": {
        "id": "M1pRqNT_saTn"
      }
    },
    {
      "cell_type": "code",
      "source": [
        "import numpy as np\n",
        "\n",
        "arreglo = np.array([1,2,3,4,5])\n",
        "\n",
        "print (arreglo)"
      ],
      "metadata": {
        "colab": {
          "base_uri": "https://localhost:8080/"
        },
        "id": "FBs6bPPCtWgt",
        "outputId": "0ae78662-65cb-44da-9bc6-6d8b8bc286ec"
      },
      "execution_count": 7,
      "outputs": [
        {
          "output_type": "stream",
          "name": "stdout",
          "text": [
            "[1 2 3 4 5]\n"
          ]
        }
      ]
    },
    {
      "cell_type": "markdown",
      "source": [
        "Matrices 2D\n",
        "una matriz que tiene matrices 1-D como elementos\n",
        "se denomina matriz 2-D. A menudo se utilizan para\n",
        "representar matrices de segundo orden.NumPy tiene\n",
        "un submodulo completo dedicado a operaciones con\n",
        "matrices llamado numpy.mat\n",
        "Ejemplo:Crea una matriz 2D que contenga dos matrices con los valores 1,2,3 y 4,5,6"
      ],
      "metadata": {
        "id": "Q5RzZh7ntyKZ"
      }
    },
    {
      "cell_type": "code",
      "source": [
        "import numpy as np\n",
        "\n",
        "arreglo = np.array([[1,2,3,],[4,5,6]])\n",
        "\n",
        "print (arreglo)"
      ],
      "metadata": {
        "colab": {
          "base_uri": "https://localhost:8080/"
        },
        "id": "1esdZIWsu-RB",
        "outputId": "d7860df0-a08b-48e1-9be5-e963e1e3c75a"
      },
      "execution_count": 8,
      "outputs": [
        {
          "output_type": "stream",
          "name": "stdout",
          "text": [
            "[[1 2 3]\n",
            " [4 5 6]]\n"
          ]
        }
      ]
    },
    {
      "cell_type": "markdown",
      "source": [
        "Matrices 3D\n",
        "Una matriz que tiene matrices 2D se denomina matriz 3D.\n",
        "estas matrices se utilizan para representar una matriz de tener orden.\n",
        "Ejemplo:Crea una matriz 3D con 2 matrices bidimensionales,ambas conteniendo\n",
        "dos matrices con los valores 1,2,3 y 4,5,6"
      ],
      "metadata": {
        "id": "WmGpcNvxvsW1"
      }
    },
    {
      "cell_type": "code",
      "source": [
        "import numpy as np\n",
        "\n",
        "arreglo = np.array([[[1,2,3],[4,5,6]],[[1,2,3],[4,5,6]]])\n",
        "\n",
        "print (arreglo)"
      ],
      "metadata": {
        "colab": {
          "base_uri": "https://localhost:8080/"
        },
        "id": "NofuAdrSwoNT",
        "outputId": "8dd47c32-b377-4460-8950-4d42f6f13dd9"
      },
      "execution_count": 9,
      "outputs": [
        {
          "output_type": "stream",
          "name": "stdout",
          "text": [
            "[[[1 2 3]\n",
            "  [4 5 6]]\n",
            "\n",
            " [[1 2 3]\n",
            "  [4 5 6]]]\n"
          ]
        }
      ]
    }
  ]
}