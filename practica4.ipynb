{
  "nbformat": 4,
  "nbformat_minor": 0,
  "metadata": {
    "colab": {
      "provenance": [],
      "authorship_tag": "ABX9TyM5u5Hrx04ChT4e90F8FChw",
      "include_colab_link": true
    },
    "kernelspec": {
      "name": "python3",
      "display_name": "Python 3"
    },
    "language_info": {
      "name": "python"
    }
  },
  "cells": [
    {
      "cell_type": "markdown",
      "metadata": {
        "id": "view-in-github",
        "colab_type": "text"
      },
      "source": [
        "<a href=\"https://colab.research.google.com/github/MONSERRATMB33/unidad1/blob/main/practica4.ipynb\" target=\"_parent\"><img src=\"https://colab.research.google.com/assets/colab-badge.svg\" alt=\"Open In Colab\"/></a>"
      ]
    },
    {
      "cell_type": "code",
      "execution_count": null,
      "metadata": {
        "id": "amSkaCK7Qb1Y"
      },
      "outputs": [],
      "source": []
    },
    {
      "cell_type": "markdown",
      "source": [
        "numpy indesaccion de matrices\n",
        "la intecxacion de matrices es lo mismo que acceder a un elemento\n",
        "de una matriz puede acceder a un elemento de una matriz haciendo\n",
        "referencia a su numero de indices\n",
        "\n",
        "los indices en las matrices numpy comienzan en 0 lo que significa\n",
        "en el primer elemento tiene el indice \"0\" el segundo \"1\" el tercero\n",
        "tiene de indice \"2\",etc.\n",
        "\n",
        "ejemplo obtenga el primer elemento de la matriz"
      ],
      "metadata": {
        "id": "9yaT0TivRTKZ"
      }
    },
    {
      "cell_type": "code",
      "source": [
        "import numpy as np\n",
        "arreglo = np.array([1,2,3,4,5])\n",
        "print (arreglo[0])\n"
      ],
      "metadata": {
        "colab": {
          "base_uri": "https://localhost:8080/"
        },
        "id": "OQAa4YdlS3Lx",
        "outputId": "bf923d2e-d1e6-42ad-bc94-17a9f4d6cd68"
      },
      "execution_count": 4,
      "outputs": [
        {
          "output_type": "stream",
          "name": "stdout",
          "text": [
            "1\n"
          ]
        }
      ]
    },
    {
      "cell_type": "markdown",
      "source": [
        "de la siguiente lista 6,7,8,9,10\n",
        "obtenga el tercero y cuarto elemento"
      ],
      "metadata": {
        "id": "sTNlZBstT7uK"
      }
    },
    {
      "cell_type": "code",
      "source": [
        "import numpy as np\n",
        "arreglo = np.array ([6,7,8,9,10])\n",
        "print(arreglo[2])\n",
        "print(arreglo[3])\n"
      ],
      "metadata": {
        "colab": {
          "base_uri": "https://localhost:8080/"
        },
        "id": "nDJIk3VUUXRp",
        "outputId": "fc7b554e-1bef-4c9f-8680-899be8175b0c"
      },
      "execution_count": 5,
      "outputs": [
        {
          "output_type": "stream",
          "name": "stdout",
          "text": [
            "8\n",
            "9\n"
          ]
        }
      ]
    },
    {
      "cell_type": "markdown",
      "source": [
        "acceder a matrices 2D\n",
        "para acceder a elementos de matrices 2D podemos\n",
        "utilizar numeros enteros separados por comas que\n",
        "representan al numero de dimensiones y al indice\n",
        "del elemento piense en matrices 2D como una tabla\n",
        "con filas y columnas,donde la dimension representan\n",
        "la fila del indice la columna\n",
        "---------------------------------\n",
        "Ejemplo: realiza una matriz 2D con las siguientes listas LISTA 1:1,2,3,4,5\n",
        "LISTA 2:6,7,8,9,10,de la matriz 2D accede al elemento de la primera fila y segunda columna\n"
      ],
      "metadata": {
        "id": "AlXZGLLfVOTJ"
      }
    },
    {
      "cell_type": "code",
      "source": [
        "import numpy as np\n",
        "arreglo=np.array([[1,2,3,4,5],[6,7,8,9,10]])\n",
        "print(arreglo[0,1])"
      ],
      "metadata": {
        "colab": {
          "base_uri": "https://localhost:8080/"
        },
        "id": "D3ZqASVqXXao",
        "outputId": "12457b9c-a6b9-4cef-e758-ff90e41daa99"
      },
      "execution_count": 6,
      "outputs": [
        {
          "output_type": "stream",
          "name": "stdout",
          "text": [
            "2\n"
          ]
        }
      ]
    }
  ]
}